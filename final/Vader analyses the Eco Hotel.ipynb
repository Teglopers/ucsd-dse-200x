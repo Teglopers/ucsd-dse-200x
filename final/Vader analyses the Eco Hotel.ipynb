{
 "cells": [
  {
   "cell_type": "markdown",
   "metadata": {},
   "source": [
    "## Final Project - DSE 200X"
   ]
  },
  {
   "cell_type": "markdown",
   "metadata": {},
   "source": [
    "## Sentiment Analysis of the ECO Hotel"
   ]
  },
  {
   "cell_type": "markdown",
   "metadata": {},
   "source": [
    "### Can you choose method of sentiment analysis applying to a hotel reviews dataset. Remember that the solution choosen could be incorparated into a business solution."
   ]
  },
  {
   "cell_type": "markdown",
   "metadata": {},
   "source": [
    "***Analysis of the Eco-hotel Data Set available from https://archive.ics.uci.edu/ml/datasets/Eco-hotel ***"
   ]
  },
  {
   "cell_type": "markdown",
   "metadata": {},
   "source": [
    "*** I have choosen ___Vader___ for the sentiment analysis - http://www.nltk.org/_modules/nltk/sentiment/vader.html ***"
   ]
  },
  {
   "cell_type": "markdown",
   "metadata": {},
   "source": [
    "The dataset has been checked for hyper links. The leading and trailing spaces will be removed at run time as this is what will actually happen in a production application, as would be the case for hyper links. We will not remove emoticons, as this can be handled by Vader."
   ]
  },
  {
   "cell_type": "code",
   "execution_count": 1,
   "metadata": {
    "collapsed": true
   },
   "outputs": [],
   "source": [
    "import codecs\n",
    "import nltk \n",
    "from nltk.sentiment.vader import SentimentIntensityAnalyzer\n",
    "from nltk import tokenize\n",
    "import numpy as np\n",
    "import pandas as pd\n",
    "import matplotlib.pyplot as plt\n",
    "import collections as ct\n",
    "import json\n",
    "import csv\n",
    "import sys  \n",
    "# https://stackoverflow.com/questions/21129020/how-to-fix-unicodedecodeerror-ascii-codec-cant-decode-byte\n",
    "reload(sys)  \n",
    "sys.setdefaultencoding('utf8') # don't do this as it will break the ability to use 'print'. they say that utf8 is \n",
    "# default for py 3. I'll assuming that they mean, providing that use py3 and you've got no py2.7 libs or anything else,\n",
    "# then it works. I don't have that at this moment.\n",
    "%matplotlib inline"
   ]
  },
  {
   "cell_type": "code",
   "execution_count": 2,
   "metadata": {
    "collapsed": true
   },
   "outputs": [],
   "source": [
    "#nltk.download()"
   ]
  },
  {
   "cell_type": "code",
   "execution_count": 3,
   "metadata": {},
   "outputs": [
    {
     "data": {
      "text/plain": [
       "(645, 1)"
      ]
     },
     "execution_count": 3,
     "metadata": {},
     "output_type": "execute_result"
    }
   ],
   "source": [
    "hotelComments = pd.read_csv('dataset-CalheirosMoroRita-2017.csv', header=0, delimiter=\"\\n\", quoting=3, encoding = 'utf8')\n",
    "hotelComments.shape"
   ]
  },
  {
   "cell_type": "markdown",
   "metadata": {},
   "source": [
    "more that the 401 reviews as stated from the web site"
   ]
  },
  {
   "cell_type": "markdown",
   "metadata": {},
   "source": [
    "### Cleansing here and also before we analyse and store to file, will remove blank lines and spaces"
   ]
  },
  {
   "cell_type": "code",
   "execution_count": 4,
   "metadata": {},
   "outputs": [
    {
     "data": {
      "text/plain": [
       "Review    False\n",
       "dtype: bool"
      ]
     },
     "execution_count": 4,
     "metadata": {},
     "output_type": "execute_result"
    }
   ],
   "source": [
    "hotelComments.isnull().any()"
   ]
  },
  {
   "cell_type": "code",
   "execution_count": 5,
   "metadata": {},
   "outputs": [
    {
     "data": {
      "text/plain": [
       "u' Everything from the weather, staff, food, property, fire pits, d\\xe9cor, spa, rooms and beach were top notch'"
      ]
     },
     "execution_count": 5,
     "metadata": {},
     "output_type": "execute_result"
    }
   ],
   "source": [
    "raw_words = hotelComments.loc[0,'Review']\n",
    "raw_words"
   ]
  },
  {
   "cell_type": "markdown",
   "metadata": {},
   "source": [
    "This shouldn't be a problem for Vader. What we must do is improve the performance\n",
    "https://stackoverflow.com/questions/45296897/is-there-a-way-to-improve-performance-of-nltk-sentiment-vader-sentiment-analyser"
   ]
  },
  {
   "cell_type": "code",
   "execution_count": 6,
   "metadata": {},
   "outputs": [
    {
     "data": {
      "text/plain": [
       "u'\"The hotel it is fantastic built by the sea, living together with nature. Environment it is great as well as people and service.'"
      ]
     },
     "execution_count": 6,
     "metadata": {},
     "output_type": "execute_result"
    }
   ],
   "source": [
    "raw_words = hotelComments.loc[1,'Review']\n",
    "raw_words"
   ]
  },
  {
   "cell_type": "markdown",
   "metadata": {},
   "source": [
    "We only need to tokenize each record from the file. Tokenize is either at paragraph level, or sentence. I've choosen for paragraph tokenisation, which will return a list of tokenised sentences. When a single sentence is passed, it still will tokenize it, return only a single list. This is useful since when I use Vader, I will only use the 'compound' value returned for each sentence. See link https://stackoverflow.com/questions/40325980/how-is-the-vader-compound-polarity-score-calculated-in-python-nltk for more info on compound score calculations"
   ]
  },
  {
   "cell_type": "markdown",
   "metadata": {},
   "source": [
    "We can be sure that not all records read will be a single sentence. According to the Vader documentation, you can get the sentiment for a paragraph on the following way https://github.com/cjhutto/vaderSentiment/blob/master/vaderSentiment/vaderSentiment.py#L517"
   ]
  },
  {
   "cell_type": "code",
   "execution_count": 7,
   "metadata": {
    "collapsed": true
   },
   "outputs": [],
   "source": [
    "# this example is from the documentation and is used for initial data analysing \n",
    "def compoundSentimentFor(paragraph):\n",
    "    print(\"  -- For example, given the following paragraph text from :\\n\\t'{}'\".format(paragraph))\n",
    "    print(\"  -- The average the results for the paragraph like this: \\n\")\n",
    "    # simple example to tokenize paragraph into sentences for VADER\n",
    "\n",
    "    analyzer = SentimentIntensityAnalyzer()\n",
    "    sentence_list = tokenize.sent_tokenize(paragraph)\n",
    "    paragraphSentiments=0.0\n",
    "    for sentence in sentence_list:\n",
    "        vs = analyzer.polarity_scores(sentence)\n",
    "        print \"Polarity scores: \",\n",
    "        for k in sorted(vs):\n",
    "            print('{0}: {1} '.format(k, vs[k])),\n",
    "            print\n",
    "#        print(\"{:-<69} {}\".format(sentence, str(vs[\"compound\"])))\n",
    "        paragraphSentiments += vs[\"compound\"]\n",
    "\n",
    "    print()\n",
    "    print(\"AVERAGE SENTIMENT FOR PARAGRAPH: \\t\" + str(round(paragraphSentiments/len(sentence_list), 4)))\n",
    "    print(\"----------------------------------------------------\")\n",
    "    return round(paragraphSentiments/len(sentence_list), 4)"
   ]
  },
  {
   "cell_type": "markdown",
   "metadata": {},
   "source": [
    "* ***positive sentiment: compound score >= 0.5***\n",
    "* ***neutral sentiment: (compound score > -0.5) and (compound score < 0.5) ***\n",
    "* ***negative sentiment: compound score <= -0.5***"
   ]
  },
  {
   "cell_type": "markdown",
   "metadata": {},
   "source": [
    "How well does the data we have make sense when we run random selections through __Vader__"
   ]
  },
  {
   "cell_type": "code",
   "execution_count": 8,
   "metadata": {},
   "outputs": [
    {
     "data": {
      "text/plain": [
       "-0.1531"
      ]
     },
     "execution_count": 8,
     "metadata": {},
     "output_type": "execute_result"
    }
   ],
   "source": [
    "compoundSentimentFor(hotelComments.loc[0,'Review'])"
   ]
  },
  {
   "cell_type": "code",
   "execution_count": 9,
   "metadata": {
    "scrolled": true
   },
   "outputs": [
    {
     "data": {
      "text/plain": [
       "-0.0922"
      ]
     },
     "execution_count": 9,
     "metadata": {},
     "output_type": "execute_result"
    }
   ],
   "source": [
    "compoundSentimentFor(\"I think that Vader is the worst analysis tool ever. That doesn't mean their are better ones out there\")"
   ]
  },
  {
   "cell_type": "markdown",
   "metadata": {},
   "source": [
    "** -0.0922, thats not good. The example above, shows an issue with the result. Neutral for both sentences, I think that we need to concluded that it may not always be possible to get a true sentiment in this case. Even though, it can be seen that a level of negative sentiment is present for the first sentence. **"
   ]
  },
  {
   "cell_type": "code",
   "execution_count": 10,
   "metadata": {},
   "outputs": [
    {
     "data": {
      "text/plain": [
       "u'It wasn\\'t a weekend nice meal, and always mark the experience we had. Given the hotel operation level, I do not think such situations are acceptable.     \"'"
      ]
     },
     "execution_count": 10,
     "metadata": {},
     "output_type": "execute_result"
    }
   ],
   "source": [
    "raw_words = hotelComments.loc[200,'Review']\n",
    "raw_words"
   ]
  },
  {
   "cell_type": "code",
   "execution_count": 11,
   "metadata": {},
   "outputs": [
    {
     "data": {
      "text/plain": [
       "-0.0035"
      ]
     },
     "execution_count": 11,
     "metadata": {},
     "output_type": "execute_result"
    }
   ],
   "source": [
    "compoundSentimentFor(hotelComments.loc[200,'Review'])"
   ]
  },
  {
   "cell_type": "markdown",
   "metadata": {},
   "source": [
    "Now that above is an odd ball, we'll check it again later"
   ]
  },
  {
   "cell_type": "code",
   "execution_count": 12,
   "metadata": {},
   "outputs": [
    {
     "data": {
      "text/plain": [
       "0.0"
      ]
     },
     "execution_count": 12,
     "metadata": {},
     "output_type": "execute_result"
    }
   ],
   "source": [
    "compoundSentimentFor(hotelComments.loc[7,'Review'])"
   ]
  },
  {
   "cell_type": "markdown",
   "metadata": {},
   "source": [
    "Interesting. Is the above sentence sentiment correct? We'll see later"
   ]
  },
  {
   "cell_type": "code",
   "execution_count": 13,
   "metadata": {},
   "outputs": [
    {
     "data": {
      "text/plain": [
       "0.0938"
      ]
     },
     "execution_count": 13,
     "metadata": {},
     "output_type": "execute_result"
    }
   ],
   "source": [
    "compoundSentimentFor(\"Thank you for a wonderful stay!'Very sad to be going home!\")"
   ]
  },
  {
   "cell_type": "markdown",
   "metadata": {},
   "source": [
    "Just to be sure that Vader is working properly"
   ]
  },
  {
   "cell_type": "code",
   "execution_count": 14,
   "metadata": {},
   "outputs": [
    {
     "data": {
      "text/plain": [
       "0.3182"
      ]
     },
     "execution_count": 14,
     "metadata": {},
     "output_type": "execute_result"
    }
   ],
   "source": [
    "compoundSentimentFor(\"I do not think such situations are acceptable.\")"
   ]
  },
  {
   "cell_type": "code",
   "execution_count": 15,
   "metadata": {},
   "outputs": [
    {
     "data": {
      "text/plain": [
       "-0.3252"
      ]
     },
     "execution_count": 15,
     "metadata": {},
     "output_type": "execute_result"
    }
   ],
   "source": [
    "compoundSentimentFor(\"It wasn't a nice meal\")"
   ]
  },
  {
   "cell_type": "markdown",
   "metadata": {},
   "source": [
    "* three examples above are neutral? Not to sure about the last one\n",
    "* ***neutral sentiment: (compound score > -0.5) and (compound score < 0.5) ***"
   ]
  },
  {
   "cell_type": "markdown",
   "metadata": {},
   "source": [
    "how about a negative sentence"
   ]
  },
  {
   "cell_type": "code",
   "execution_count": 16,
   "metadata": {},
   "outputs": [
    {
     "data": {
      "text/plain": [
       "-0.6249"
      ]
     },
     "execution_count": 16,
     "metadata": {},
     "output_type": "execute_result"
    }
   ],
   "source": [
    "compoundSentimentFor(\"I think that Vader is the worst analysis tool ever\")"
   ]
  },
  {
   "cell_type": "markdown",
   "metadata": {},
   "source": [
    "* ***negative sentiment: compound score <= -0.5***"
   ]
  },
  {
   "cell_type": "markdown",
   "metadata": {},
   "source": [
    "Lets see if we cannot fix a few issues\n",
    "* ** wrong value for a paragraph were we can see that the sentence contains a negative sentence **\n",
    "* ** do we really have a neutral sentence?**"
   ]
  },
  {
   "cell_type": "markdown",
   "metadata": {},
   "source": [
    "First we need a few new functions"
   ]
  },
  {
   "cell_type": "code",
   "execution_count": 17,
   "metadata": {
    "collapsed": true
   },
   "outputs": [],
   "source": [
    "# returns the most negative value providing there is a value less than zero\n",
    "# we use zero as our dividing line between positive and negative sentiment\n",
    "def senti(sen):\n",
    "    sentment = 0\n",
    "    if sen.min() < 0:\n",
    "        sentment = sen.min()\n",
    "    else:\n",
    "        sentment = sen.max()\n",
    "    \n",
    "    return sentment"
   ]
  },
  {
   "cell_type": "code",
   "execution_count": 18,
   "metadata": {
    "collapsed": true
   },
   "outputs": [],
   "source": [
    "# final sentiment analysis code\n",
    "# the average is removed and in place we will use the 'senti' function from above\n",
    "\n",
    "def compoundSentiment(paragraph):\n",
    "    analyzer = SentimentIntensityAnalyzer()\n",
    "    sentence_list = tokenize.sent_tokenize(paragraph)\n",
    "    paragraphSentiments=0.0\n",
    "    i = 0\n",
    "    cmps = np.zeros([len(sentence_list)])\n",
    "    for sentence in sentence_list:\n",
    "        vs = analyzer.polarity_scores(sentence.strip(\" \"))\n",
    "        paragraphSentiments += vs[\"compound\"]\n",
    "        cmps[i] = vs[\"compound\"]\n",
    "        i =+1\n",
    "        \n",
    "    negative_sentiment = 0\n",
    "    if len(sentence_list) == 1: \n",
    "        negative_sentiment = round(paragraphSentiments, 4)\n",
    "    else:\n",
    "        negative_sentiment = round(senti(cmps), 4)\n",
    "        \n",
    "    return (negative_sentiment, sentence_list, vs, cmps)"
   ]
  },
  {
   "cell_type": "markdown",
   "metadata": {},
   "source": [
    "__ Notice that the averaging has been removed and we are now using an array to store the compound results. Which we then derive the correct value for that paragraph and it works well with a single sentence too __"
   ]
  },
  {
   "cell_type": "markdown",
   "metadata": {},
   "source": [
    "Now we test the single sentence and paragraph with a negative sentence"
   ]
  },
  {
   "cell_type": "code",
   "execution_count": 19,
   "metadata": {},
   "outputs": [
    {
     "data": {
      "text/plain": [
       "(0.4404,\n",
       " [\"That doesn't mean their are better ones out there\"],\n",
       " {'compound': 0.4404, 'neg': 0.0, 'neu': 0.734, 'pos': 0.266},\n",
       " array([ 0.4404]))"
      ]
     },
     "execution_count": 19,
     "metadata": {},
     "output_type": "execute_result"
    }
   ],
   "source": [
    "compoundSentiment(\"That doesn't mean their are better ones out there\")"
   ]
  },
  {
   "cell_type": "code",
   "execution_count": 20,
   "metadata": {},
   "outputs": [
    {
     "data": {
      "text/plain": [
       "(-0.6249,\n",
       " ['I think that Vader is the worst analysis tool ever.',\n",
       "  \"That doesn't mean their are better ones out there\"],\n",
       " {'compound': 0.4404, 'neg': 0.0, 'neu': 0.734, 'pos': 0.266},\n",
       " array([-0.6249,  0.4404]))"
      ]
     },
     "execution_count": 20,
     "metadata": {},
     "output_type": "execute_result"
    }
   ],
   "source": [
    "compoundSentiment(\"I think that Vader is the worst analysis tool ever. That doesn't mean their are better ones out there\")"
   ]
  },
  {
   "cell_type": "markdown",
   "metadata": {},
   "source": [
    "** The above is much better, it returns the negative sentiment unlike previously were we got '__-0.0922__' **"
   ]
  },
  {
   "cell_type": "code",
   "execution_count": 21,
   "metadata": {},
   "outputs": [
    {
     "data": {
      "text/plain": [
       "(0.0,\n",
       " [u'Breakfast has high-quality products, but it lacks in choice.'],\n",
       " {'compound': 0.0, 'neg': 0.0, 'neu': 1.0, 'pos': 0.0},\n",
       " array([ 0.]))"
      ]
     },
     "execution_count": 21,
     "metadata": {},
     "output_type": "execute_result"
    }
   ],
   "source": [
    "compoundSentiment(hotelComments.loc[7,'Review'])"
   ]
  },
  {
   "cell_type": "markdown",
   "metadata": {},
   "source": [
    "So, is the above a neutral sentence which we had seen previously? Looks like it."
   ]
  },
  {
   "cell_type": "code",
   "execution_count": 22,
   "metadata": {},
   "outputs": [
    {
     "data": {
      "text/plain": [
       "(-0.3252,\n",
       " [u\"It wasn't a weekend nice meal, and always mark the experience we had.\",\n",
       "  u'Given the hotel operation level, I do not think such situations are acceptable.     \"'],\n",
       " {'compound': 0.3182, 'neg': 0.0, 'neu': 0.827, 'pos': 0.173},\n",
       " array([-0.3252,  0.3182]))"
      ]
     },
     "execution_count": 22,
     "metadata": {},
     "output_type": "execute_result"
    }
   ],
   "source": [
    "compoundSentiment(hotelComments.loc[200,'Review'])"
   ]
  },
  {
   "cell_type": "markdown",
   "metadata": {},
   "source": [
    "Better that the previous attempt, looks like will need to evaluate the definition of where our classification for neutral and negative sentiment value starts. Given that the compound value is __ -0.3252 __ and we definitely have a negative sentence.\n",
    "* ***neutral sentiment: (compound score > -0.5) and (compound score < 0.5) ***\n",
    "* ***negative sentiment: compound score <= -0.5***"
   ]
  },
  {
   "cell_type": "code",
   "execution_count": 23,
   "metadata": {},
   "outputs": [
    {
     "data": {
      "text/plain": [
       "(-0.5849,\n",
       " ['Other sentiment analysis tools can be quite bad.'],\n",
       " {'compound': -0.5849, 'neg': 0.351, 'neu': 0.649, 'pos': 0.0},\n",
       " array([-0.5849]))"
      ]
     },
     "execution_count": 23,
     "metadata": {},
     "output_type": "execute_result"
    }
   ],
   "source": [
    "tricky_sentences = [\"Sentiment analysis has never been good.\",\n",
    "                        \"Sentiment analysis has never been this good!\",\n",
    "                        \"Most automated sentiment analysis tools are shit.\",\n",
    "                        \"With VADER, sentiment analysis is the shit!\",\n",
    "                        \"Other sentiment analysis tools can be quite bad.\",\n",
    "                        \"On the other hand, VADER is quite bad ass!\",\n",
    "                        \"Roger Dodger is one of the most compelling variations on this theme.\",\n",
    "                        \"Roger Dodger is one of the least compelling variations on this theme.\",\n",
    "                        \"Roger Dodger is at least compelling as a variation on the theme.\"\n",
    "                        ]\n",
    "compoundSentiment(\"Other sentiment analysis tools can be quite bad.\")"
   ]
  },
  {
   "cell_type": "markdown",
   "metadata": {},
   "source": [
    "* **quick test to see if we are on the write track **\n",
    "* ** The final part of our data cleansing **"
   ]
  },
  {
   "cell_type": "code",
   "execution_count": 24,
   "metadata": {
    "collapsed": true
   },
   "outputs": [],
   "source": [
    "# trim any leading or trailing spaces\n",
    "for row in hotelComments['Review']:\n",
    "    para = row.strip()\n",
    "    if len(para) > 3:\n",
    "        try:\n",
    "            compoundSentiment(row)\n",
    "        except:\n",
    "            print \"This is an error message!\""
   ]
  },
  {
   "cell_type": "code",
   "execution_count": 25,
   "metadata": {
    "collapsed": true
   },
   "outputs": [],
   "source": [
    "ave_comp, sent_list, ps, vvv = compoundSentiment(\"Pricing is utterly ridiculous, for what you get.'\")"
   ]
  },
  {
   "cell_type": "code",
   "execution_count": 26,
   "metadata": {},
   "outputs": [
    {
     "data": {
      "text/plain": [
       "(-0.4201,\n",
       " [\"Pricing is utterly ridiculous, for what you get.'\"],\n",
       " {'compound': -0.4201, 'neg': 0.285, 'neu': 0.715, 'pos': 0.0},\n",
       " array([-0.4201]))"
      ]
     },
     "execution_count": 26,
     "metadata": {},
     "output_type": "execute_result"
    }
   ],
   "source": [
    "ave_comp, sent_list, ps, vvv"
   ]
  },
  {
   "cell_type": "markdown",
   "metadata": {},
   "source": [
    "Now; write out a file the stats for each record. Will write out only the compound values first. I'll do this so that it will make working on the visualisation easier. Also I can compare any changes by diff of files as well as seen the differences visually."
   ]
  },
  {
   "cell_type": "code",
   "execution_count": 27,
   "metadata": {
    "collapsed": true
   },
   "outputs": [],
   "source": [
    "\n",
    "with open('compoundata.csv', 'w') as csvfile:\n",
    "\n",
    "    mywriter = csv.writer(csvfile, delimiter=\"\\n\", quotechar=',', quoting=csv.QUOTE_MINIMAL)    \n",
    "#    mywriter.writerow(['compound', 'review', 'polarity_scores'])\n",
    "    mywriter.writerow(['compound'])\n",
    "    for row in hotelComments['Review']:\n",
    "\n",
    "        para = row.strip()\n",
    "\n",
    "        if len(para) > 3:\n",
    "            ave_comp, sent_list, ps, allCmps = compoundSentiment(para)\n",
    "#            comp = compoundSentiment(para)\n",
    "\n",
    "            mywriter.writerow([ave_comp])\n",
    "#            mywriter.writerow([ave_comp, sent_list])"
   ]
  },
  {
   "cell_type": "markdown",
   "metadata": {},
   "source": [
    "Read the stored the sentiments. so now we can visualise the results"
   ]
  },
  {
   "cell_type": "code",
   "execution_count": 28,
   "metadata": {},
   "outputs": [
    {
     "data": {
      "text/plain": [
       "(633, 1)"
      ]
     },
     "execution_count": 28,
     "metadata": {},
     "output_type": "execute_result"
    }
   ],
   "source": [
    "hotelCompounds = pd.read_csv('compoundata.csv', header=0, delimiter=\"\\n\", quoting=3, encoding = 'utf8')\n",
    "hotelCompounds.shape"
   ]
  },
  {
   "cell_type": "markdown",
   "metadata": {},
   "source": [
    "Originally we had 645, now we are down to 633. Those 12 are those which are blank lines"
   ]
  },
  {
   "cell_type": "code",
   "execution_count": 29,
   "metadata": {},
   "outputs": [
    {
     "data": {
      "text/html": [
       "<div>\n",
       "<style>\n",
       "    .dataframe thead tr:only-child th {\n",
       "        text-align: right;\n",
       "    }\n",
       "\n",
       "    .dataframe thead th {\n",
       "        text-align: left;\n",
       "    }\n",
       "\n",
       "    .dataframe tbody tr th {\n",
       "        vertical-align: top;\n",
       "    }\n",
       "</style>\n",
       "<table border=\"1\" class=\"dataframe\">\n",
       "  <thead>\n",
       "    <tr style=\"text-align: right;\">\n",
       "      <th></th>\n",
       "      <th>compound</th>\n",
       "    </tr>\n",
       "  </thead>\n",
       "  <tbody>\n",
       "    <tr>\n",
       "      <th>0</th>\n",
       "      <td>-0.1531</td>\n",
       "    </tr>\n",
       "    <tr>\n",
       "      <th>1</th>\n",
       "      <td>0.7351</td>\n",
       "    </tr>\n",
       "    <tr>\n",
       "      <th>2</th>\n",
       "      <td>0.5106</td>\n",
       "    </tr>\n",
       "    <tr>\n",
       "      <th>3</th>\n",
       "      <td>0.4404</td>\n",
       "    </tr>\n",
       "    <tr>\n",
       "      <th>4</th>\n",
       "      <td>-0.3400</td>\n",
       "    </tr>\n",
       "  </tbody>\n",
       "</table>\n",
       "</div>"
      ],
      "text/plain": [
       "   compound\n",
       "0   -0.1531\n",
       "1    0.7351\n",
       "2    0.5106\n",
       "3    0.4404\n",
       "4   -0.3400"
      ]
     },
     "execution_count": 29,
     "metadata": {},
     "output_type": "execute_result"
    }
   ],
   "source": [
    "hotelCompounds.head()"
   ]
  },
  {
   "cell_type": "code",
   "execution_count": 30,
   "metadata": {},
   "outputs": [
    {
     "data": {
      "text/plain": [
       "pandas.core.frame.DataFrame"
      ]
     },
     "execution_count": 30,
     "metadata": {},
     "output_type": "execute_result"
    }
   ],
   "source": [
    "type(hotelCompounds)"
   ]
  },
  {
   "cell_type": "markdown",
   "metadata": {},
   "source": [
    "Now for the printing"
   ]
  },
  {
   "cell_type": "code",
   "execution_count": 31,
   "metadata": {
    "collapsed": true
   },
   "outputs": [],
   "source": [
    "colors2 = []\n",
    "for hc in hotelCompounds['compound']:\n",
    "    if hc >= 0.5: # positive sentiment\n",
    "        colors2.append('#02ccfe',)#15b01a\n",
    "#        print('{0}: {1} '.format(hc, 'green'))\n",
    "\n",
    "    elif hc <= -0.25: # negative sentiment\n",
    "        colors2.append('#ff796c',)#ff000d\n",
    "#        print('{0}: {1} '.format(hc, 'bright red'))\n",
    "\n",
    "    elif hc <= -0.5: # negative sentiment\n",
    "        colors2.append('#f97306',)#ff000d\n",
    "#        print('{0}: {1} '.format(hc, 'bright red'))\n",
    "\n",
    "    else: # neutral sentiment\n",
    "        colors2.append('#c5c9c7',)  ##0343df\n",
    "#        print('{0}: {1} '.format(hc, 'blue'))"
   ]
  },
  {
   "cell_type": "markdown",
   "metadata": {},
   "source": [
    "Colours sorted for the different sentiment, now the counts (reviews) to help the plot along"
   ]
  },
  {
   "cell_type": "code",
   "execution_count": 32,
   "metadata": {
    "collapsed": true
   },
   "outputs": [],
   "source": [
    "revs = np.arange(hotelCompounds.size)"
   ]
  },
  {
   "cell_type": "markdown",
   "metadata": {},
   "source": [
    "finally the sentiment values, these are the compound values which we've calculated and stored, made it easier for developing the visuals"
   ]
  },
  {
   "cell_type": "code",
   "execution_count": 33,
   "metadata": {
    "collapsed": true
   },
   "outputs": [],
   "source": [
    "hCmpds = hotelCompounds['compound'].tolist()"
   ]
  },
  {
   "cell_type": "markdown",
   "metadata": {},
   "source": [
    "plot it, keep it simple and clean"
   ]
  },
  {
   "cell_type": "markdown",
   "metadata": {},
   "source": [
    "Looks like a silver line of neutral reviews at 0.0, checked that and those are real results, yes it still looks like a silver line."
   ]
  },
  {
   "cell_type": "code",
   "execution_count": 34,
   "metadata": {},
   "outputs": [
    {
     "data": {
      "image/png": "[encoded data removed]",
      "text/plain": [
       "<matplotlib.figure.Figure at 0x115ebcf90>"
      ]
     },
     "metadata": {},
     "output_type": "display_data"
    }
   ],
   "source": [
    "\n",
    "fig = plt.figure(figsize=(12,8))\n",
    "\n",
    "plt.scatter(revs,hCmpds,c=colors2)\n",
    "\n",
    "plt.axhline(y=0.5, alpha=0.2)\n",
    "plt.axhline(y=-0.25, alpha=0.2)\n",
    "#plt.axhline(y=-0.5, alpha=0.2)\n",
    "plt.title(\"Point observations\")\n",
    "plt.xlabel(\"review\")\n",
    "plt.ylabel(\"Sentiment (compound values)\")\n",
    "\n",
    "plt.show()\n"
   ]
  },
  {
   "cell_type": "markdown",
   "metadata": {
    "collapsed": true
   },
   "source": [
    "We have a base approach which we can use to drive an application which will notify of any negative sentiment. The reviews would be cleansed prior to analysis. It doesn't need to be a batch based application, just read the data as they sent and follow this with the analysis. Log all results and notify the User with a Web based user interface to interogate any sentiment, doesn't just have to be negative only."
   ]
  }
 ],
 "metadata": {
  "kernelspec": {
   "display_name": "Python 3",
   "language": "python",
   "name": "python3"
  },
  "language_info": {
   "codemirror_mode": {
    "name": "ipython",
    "version": 2
   },
   "file_extension": ".py",
   "mimetype": "text/x-python",
   "name": "python",
   "nbconvert_exporter": "python",
   "pygments_lexer": "ipython2",
   "version": "2.7.11"
  }
 },
 "nbformat": 4,
 "nbformat_minor": 2
}
